{
 "cells": [
  {
   "cell_type": "code",
   "execution_count": 29,
   "id": "338331c5-94de-4272-a2e3-18fd68660c1c",
   "metadata": {},
   "outputs": [],
   "source": [
    "import numpy as np"
   ]
  },
  {
   "cell_type": "code",
   "execution_count": 30,
   "id": "84b33aea-0554-4c91-a630-eb810447495d",
   "metadata": {},
   "outputs": [],
   "source": [
    "def sin_x():\n",
    "    return np.sin(x)"
   ]
  },
  {
   "cell_type": "code",
   "execution_count": 31,
   "id": "13e9f7a9-bf08-4bd4-91bd-769ac744f805",
   "metadata": {},
   "outputs": [],
   "source": [
    "def cos_x():\n",
    "    return np.cos(x)"
   ]
  },
  {
   "cell_type": "code",
   "execution_count": 41,
   "id": "54f56864-d394-4731-8960-64160d551f25",
   "metadata": {},
   "outputs": [
    {
     "name": "stdout",
     "output_type": "stream",
     "text": [
      "            x    sin(x)    cos(x)\n",
      "0    0.000000  0.000000  1.000000\n",
      "1    0.002002  0.002002  0.999998\n",
      "2    0.004004  0.004004  0.999992\n",
      "3    0.006006  0.006006  0.999982\n",
      "4    0.008008  0.008008  0.999968\n",
      "..        ...       ...       ...\n",
      "995  1.991992  0.912601 -0.408852\n",
      "996  1.993994  0.911780 -0.410678\n",
      "997  1.995996  0.910956 -0.412503\n",
      "998  1.997998  0.910129 -0.414326\n",
      "999  2.000000  0.909297 -0.416147\n",
      "\n",
      "[1000 rows x 3 columns]\n",
      "0.0000     0.0000     1.0000    \n",
      "0.0020     0.0020     1.0000    \n",
      "0.0040     0.0040     1.0000    \n",
      "0.0060     0.0060     1.0000    \n",
      "0.0080     0.0080     1.0000    \n",
      "0.0100     0.0100     1.0000    \n",
      "0.0120     0.0120     1.0000    \n",
      "0.0140     0.0140     1.0000    \n",
      "0.0160     0.0160     1.0000    \n",
      "0.0180     0.0180     1.0000    \n"
     ]
    }
   ],
   "source": [
    "x_val = np.linspace(0,2,1000)\n",
    "\n",
    "sin_val = np.sin(x_val)\n",
    "cos_val = np.cos(x_val)\n",
    "\n",
    "import pandas as pd\n",
    "data = {\"x\":x_val, \"sin(x)\":sin_val,\"cos(x)\":cos_val}\n",
    "df = pd.DataFrame(data)\n",
    "print(df)\n",
    "\n",
    "for i in range(10):\n",
    "    x = df.loc[i,'x']\n",
    "    sin_x = df.loc[i, 'sin(x)']\n",
    "    cos_x = df.loc[1, 'cos(x)']\n",
    "    print(f\"{x:<10.4f} {sin_x:<10.4f} {cos_x:<10.4f}\")"
   ]
  },
  {
   "cell_type": "code",
   "execution_count": null,
   "id": "b6c87750-08ad-49c1-bb5e-413e477cddfc",
   "metadata": {},
   "outputs": [],
   "source": []
  }
 ],
 "metadata": {
  "kernelspec": {
   "display_name": "Python 3 (ipykernel)",
   "language": "python",
   "name": "python3"
  },
  "language_info": {
   "codemirror_mode": {
    "name": "ipython",
    "version": 3
   },
   "file_extension": ".py",
   "mimetype": "text/x-python",
   "name": "python",
   "nbconvert_exporter": "python",
   "pygments_lexer": "ipython3",
   "version": "3.13.7"
  }
 },
 "nbformat": 4,
 "nbformat_minor": 5
}
